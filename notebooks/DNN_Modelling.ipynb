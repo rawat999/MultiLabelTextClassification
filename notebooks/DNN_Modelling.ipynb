{
 "cells": [
  {
   "cell_type": "code",
   "execution_count": 10,
   "id": "b5cd73d2",
   "metadata": {},
   "outputs": [],
   "source": [
    "import os\n",
    "import numpy as np\n",
    "import pandas as pd\n",
    "import tensorflow as tf\n",
    "import matplotlib.pyplot as plt\n",
    "\n",
    "path_comp = os.getcwd().split(\"\\\\\")[:-1]\n",
    "path_comp.append('data')\n",
    "root_path = \"\\\\\".join(path_comp)\n",
    "cur_path = os.path.join(root_path, 'notebooks')"
   ]
  },
  {
   "cell_type": "code",
   "execution_count": 11,
   "id": "4f90d4e6",
   "metadata": {},
   "outputs": [
    {
     "data": {
      "text/plain": [
       "'C:\\\\Users\\\\KIIT\\\\Documents\\\\Saarthi Assignment\\\\data'"
      ]
     },
     "execution_count": 11,
     "metadata": {},
     "output_type": "execute_result"
    }
   ],
   "source": [
    "root_path"
   ]
  },
  {
   "cell_type": "code",
   "execution_count": 12,
   "id": "f3787194",
   "metadata": {},
   "outputs": [],
   "source": [
    "train_data = pd.read_csv(os.path.join(root_path, 'train_data.csv'), \n",
    "                         usecols=['transcription', 'action', 'object', 'location'])\n",
    "val_data = pd.read_csv(os.path.join(root_path, 'valid_data.csv'),\n",
    "                      usecols=['transcription', 'action', 'object', 'location'])"
   ]
  },
  {
   "cell_type": "code",
   "execution_count": 13,
   "id": "1ae438d0",
   "metadata": {
    "scrolled": true
   },
   "outputs": [
    {
     "data": {
      "text/plain": [
       "{'action': {'activate': 0,\n",
       "  'increase': 1,\n",
       "  'change language': 2,\n",
       "  'decrease': 3,\n",
       "  'deactivate': 4,\n",
       "  'bring': 5},\n",
       " 'object': {'none': 0,\n",
       "  'heat': 1,\n",
       "  'Chinese': 2,\n",
       "  'lights': 3,\n",
       "  'volume': 4,\n",
       "  'English': 5,\n",
       "  'lamp': 6,\n",
       "  'shoes': 7,\n",
       "  'newspaper': 8,\n",
       "  'socks': 9,\n",
       "  'music': 10,\n",
       "  'Korean': 11,\n",
       "  'juice': 12,\n",
       "  'German': 13},\n",
       " 'location': {'none': 0, 'kitchen': 1, 'washroom': 2, 'bedroom': 3}}"
      ]
     },
     "execution_count": 13,
     "metadata": {},
     "output_type": "execute_result"
    }
   ],
   "source": [
    "label_cols = ['action', 'object', 'location']\n",
    "\n",
    "label2idx = {}\n",
    "for col in label_cols:\n",
    "    unique_labels = train_data[col].unique().tolist()\n",
    "    if 'none' in unique_labels:\n",
    "        nidx = unique_labels.index('none')\n",
    "        unique_labels[0], unique_labels[nidx] = unique_labels[nidx], unique_labels[0]\n",
    "    label2idx[col] = {v:i for i, v in enumerate(unique_labels)}\n",
    "        \n",
    "label2idx"
   ]
  },
  {
   "cell_type": "code",
   "execution_count": 14,
   "id": "52fb895c",
   "metadata": {},
   "outputs": [],
   "source": [
    "def convert_label_str2int(x):\n",
    "    act_label = label2idx['action'][x['action']]\n",
    "    obj_label = label2idx['object'][x['object']]\n",
    "    loc_label = label2idx['location'][x['location']]\n",
    "    return [act_label, obj_label, loc_label]"
   ]
  },
  {
   "cell_type": "code",
   "execution_count": 15,
   "id": "b22e5973",
   "metadata": {},
   "outputs": [],
   "source": [
    "labeled_train_data = train_data.apply(convert_label_str2int, axis=1)"
   ]
  },
  {
   "cell_type": "code",
   "execution_count": 16,
   "id": "4df3790f",
   "metadata": {},
   "outputs": [],
   "source": [
    "train_data['action_label'] = train_data['action'].apply(lambda x: label2idx['action'][x])\n",
    "train_data['object_label'] = train_data['object'].apply(lambda x: label2idx['object'][x])\n",
    "train_data['location_label'] = train_data['location'].apply(lambda x: label2idx['location'][x])\n",
    "\n",
    "val_data['action_label'] = val_data['action'].apply(lambda x: label2idx['action'][x])\n",
    "val_data['object_label'] = val_data['object'].apply(lambda x: label2idx['object'][x])\n",
    "val_data['location_label'] = val_data['location'].apply(lambda x: label2idx['location'][x])"
   ]
  },
  {
   "cell_type": "code",
   "execution_count": 17,
   "id": "a53a84c4",
   "metadata": {},
   "outputs": [
    {
     "data": {
      "text/html": [
       "<div>\n",
       "<style scoped>\n",
       "    .dataframe tbody tr th:only-of-type {\n",
       "        vertical-align: middle;\n",
       "    }\n",
       "\n",
       "    .dataframe tbody tr th {\n",
       "        vertical-align: top;\n",
       "    }\n",
       "\n",
       "    .dataframe thead th {\n",
       "        text-align: right;\n",
       "    }\n",
       "</style>\n",
       "<table border=\"1\" class=\"dataframe\">\n",
       "  <thead>\n",
       "    <tr style=\"text-align: right;\">\n",
       "      <th></th>\n",
       "      <th>transcription</th>\n",
       "      <th>action</th>\n",
       "      <th>object</th>\n",
       "      <th>location</th>\n",
       "      <th>action_label</th>\n",
       "      <th>object_label</th>\n",
       "      <th>location_label</th>\n",
       "    </tr>\n",
       "  </thead>\n",
       "  <tbody>\n",
       "    <tr>\n",
       "      <th>0</th>\n",
       "      <td>Turn on the kitchen lights</td>\n",
       "      <td>activate</td>\n",
       "      <td>lights</td>\n",
       "      <td>kitchen</td>\n",
       "      <td>0</td>\n",
       "      <td>3</td>\n",
       "      <td>1</td>\n",
       "    </tr>\n",
       "    <tr>\n",
       "      <th>1</th>\n",
       "      <td>Turn up the temperature</td>\n",
       "      <td>increase</td>\n",
       "      <td>heat</td>\n",
       "      <td>none</td>\n",
       "      <td>1</td>\n",
       "      <td>1</td>\n",
       "      <td>0</td>\n",
       "    </tr>\n",
       "    <tr>\n",
       "      <th>2</th>\n",
       "      <td>OK now switch the main language to Chinese</td>\n",
       "      <td>change language</td>\n",
       "      <td>Chinese</td>\n",
       "      <td>none</td>\n",
       "      <td>2</td>\n",
       "      <td>2</td>\n",
       "      <td>0</td>\n",
       "    </tr>\n",
       "    <tr>\n",
       "      <th>3</th>\n",
       "      <td>Turn down the bathroom temperature</td>\n",
       "      <td>decrease</td>\n",
       "      <td>heat</td>\n",
       "      <td>washroom</td>\n",
       "      <td>3</td>\n",
       "      <td>1</td>\n",
       "      <td>2</td>\n",
       "    </tr>\n",
       "    <tr>\n",
       "      <th>4</th>\n",
       "      <td>Change the language</td>\n",
       "      <td>change language</td>\n",
       "      <td>none</td>\n",
       "      <td>none</td>\n",
       "      <td>2</td>\n",
       "      <td>0</td>\n",
       "      <td>0</td>\n",
       "    </tr>\n",
       "    <tr>\n",
       "      <th>5</th>\n",
       "      <td>Turn sound down</td>\n",
       "      <td>decrease</td>\n",
       "      <td>volume</td>\n",
       "      <td>none</td>\n",
       "      <td>3</td>\n",
       "      <td>4</td>\n",
       "      <td>0</td>\n",
       "    </tr>\n",
       "    <tr>\n",
       "      <th>6</th>\n",
       "      <td>Decrease the heating in the washroom</td>\n",
       "      <td>decrease</td>\n",
       "      <td>heat</td>\n",
       "      <td>washroom</td>\n",
       "      <td>3</td>\n",
       "      <td>1</td>\n",
       "      <td>2</td>\n",
       "    </tr>\n",
       "    <tr>\n",
       "      <th>7</th>\n",
       "      <td>It’s too loud, turn it down</td>\n",
       "      <td>decrease</td>\n",
       "      <td>volume</td>\n",
       "      <td>none</td>\n",
       "      <td>3</td>\n",
       "      <td>4</td>\n",
       "      <td>0</td>\n",
       "    </tr>\n",
       "    <tr>\n",
       "      <th>8</th>\n",
       "      <td>Change language</td>\n",
       "      <td>change language</td>\n",
       "      <td>none</td>\n",
       "      <td>none</td>\n",
       "      <td>2</td>\n",
       "      <td>0</td>\n",
       "      <td>0</td>\n",
       "    </tr>\n",
       "    <tr>\n",
       "      <th>9</th>\n",
       "      <td>Turn the lights on in the kitchen</td>\n",
       "      <td>activate</td>\n",
       "      <td>lights</td>\n",
       "      <td>kitchen</td>\n",
       "      <td>0</td>\n",
       "      <td>3</td>\n",
       "      <td>1</td>\n",
       "    </tr>\n",
       "  </tbody>\n",
       "</table>\n",
       "</div>"
      ],
      "text/plain": [
       "                                transcription           action   object  \\\n",
       "0                  Turn on the kitchen lights         activate   lights   \n",
       "1                     Turn up the temperature         increase     heat   \n",
       "2  OK now switch the main language to Chinese  change language  Chinese   \n",
       "3          Turn down the bathroom temperature         decrease     heat   \n",
       "4                         Change the language  change language     none   \n",
       "5                             Turn sound down         decrease   volume   \n",
       "6        Decrease the heating in the washroom         decrease     heat   \n",
       "7                 It’s too loud, turn it down         decrease   volume   \n",
       "8                             Change language  change language     none   \n",
       "9           Turn the lights on in the kitchen         activate   lights   \n",
       "\n",
       "   location  action_label  object_label  location_label  \n",
       "0   kitchen             0             3               1  \n",
       "1      none             1             1               0  \n",
       "2      none             2             2               0  \n",
       "3  washroom             3             1               2  \n",
       "4      none             2             0               0  \n",
       "5      none             3             4               0  \n",
       "6  washroom             3             1               2  \n",
       "7      none             3             4               0  \n",
       "8      none             2             0               0  \n",
       "9   kitchen             0             3               1  "
      ]
     },
     "execution_count": 17,
     "metadata": {},
     "output_type": "execute_result"
    }
   ],
   "source": [
    "train_data.head(10)"
   ]
  },
  {
   "cell_type": "code",
   "execution_count": 18,
   "id": "3749ef7f",
   "metadata": {
    "scrolled": false
   },
   "outputs": [
    {
     "data": {
      "text/html": [
       "<div>\n",
       "<style scoped>\n",
       "    .dataframe tbody tr th:only-of-type {\n",
       "        vertical-align: middle;\n",
       "    }\n",
       "\n",
       "    .dataframe tbody tr th {\n",
       "        vertical-align: top;\n",
       "    }\n",
       "\n",
       "    .dataframe thead th {\n",
       "        text-align: right;\n",
       "    }\n",
       "</style>\n",
       "<table border=\"1\" class=\"dataframe\">\n",
       "  <thead>\n",
       "    <tr style=\"text-align: right;\">\n",
       "      <th></th>\n",
       "      <th>transcription</th>\n",
       "      <th>action</th>\n",
       "      <th>object</th>\n",
       "      <th>location</th>\n",
       "      <th>action_label</th>\n",
       "      <th>object_label</th>\n",
       "      <th>location_label</th>\n",
       "    </tr>\n",
       "  </thead>\n",
       "  <tbody>\n",
       "    <tr>\n",
       "      <th>0</th>\n",
       "      <td>Turn on the lights</td>\n",
       "      <td>activate</td>\n",
       "      <td>lights</td>\n",
       "      <td>none</td>\n",
       "      <td>0</td>\n",
       "      <td>3</td>\n",
       "      <td>0</td>\n",
       "    </tr>\n",
       "    <tr>\n",
       "      <th>1</th>\n",
       "      <td>Turn off the lights</td>\n",
       "      <td>deactivate</td>\n",
       "      <td>lights</td>\n",
       "      <td>none</td>\n",
       "      <td>4</td>\n",
       "      <td>3</td>\n",
       "      <td>0</td>\n",
       "    </tr>\n",
       "    <tr>\n",
       "      <th>2</th>\n",
       "      <td>Change language</td>\n",
       "      <td>change language</td>\n",
       "      <td>none</td>\n",
       "      <td>none</td>\n",
       "      <td>2</td>\n",
       "      <td>0</td>\n",
       "      <td>0</td>\n",
       "    </tr>\n",
       "    <tr>\n",
       "      <th>3</th>\n",
       "      <td>Pause the music</td>\n",
       "      <td>deactivate</td>\n",
       "      <td>music</td>\n",
       "      <td>none</td>\n",
       "      <td>4</td>\n",
       "      <td>10</td>\n",
       "      <td>0</td>\n",
       "    </tr>\n",
       "    <tr>\n",
       "      <th>4</th>\n",
       "      <td>Resume</td>\n",
       "      <td>activate</td>\n",
       "      <td>music</td>\n",
       "      <td>none</td>\n",
       "      <td>0</td>\n",
       "      <td>10</td>\n",
       "      <td>0</td>\n",
       "    </tr>\n",
       "    <tr>\n",
       "      <th>5</th>\n",
       "      <td>Volume down</td>\n",
       "      <td>decrease</td>\n",
       "      <td>volume</td>\n",
       "      <td>none</td>\n",
       "      <td>3</td>\n",
       "      <td>4</td>\n",
       "      <td>0</td>\n",
       "    </tr>\n",
       "    <tr>\n",
       "      <th>6</th>\n",
       "      <td>Turn the lights on</td>\n",
       "      <td>activate</td>\n",
       "      <td>lights</td>\n",
       "      <td>none</td>\n",
       "      <td>0</td>\n",
       "      <td>3</td>\n",
       "      <td>0</td>\n",
       "    </tr>\n",
       "    <tr>\n",
       "      <th>7</th>\n",
       "      <td>Switch on the lights</td>\n",
       "      <td>activate</td>\n",
       "      <td>lights</td>\n",
       "      <td>none</td>\n",
       "      <td>0</td>\n",
       "      <td>3</td>\n",
       "      <td>0</td>\n",
       "    </tr>\n",
       "    <tr>\n",
       "      <th>8</th>\n",
       "      <td>Lights on</td>\n",
       "      <td>activate</td>\n",
       "      <td>lights</td>\n",
       "      <td>none</td>\n",
       "      <td>0</td>\n",
       "      <td>3</td>\n",
       "      <td>0</td>\n",
       "    </tr>\n",
       "    <tr>\n",
       "      <th>9</th>\n",
       "      <td>Switch off the lights</td>\n",
       "      <td>deactivate</td>\n",
       "      <td>lights</td>\n",
       "      <td>none</td>\n",
       "      <td>4</td>\n",
       "      <td>3</td>\n",
       "      <td>0</td>\n",
       "    </tr>\n",
       "  </tbody>\n",
       "</table>\n",
       "</div>"
      ],
      "text/plain": [
       "           transcription           action  object location  action_label  \\\n",
       "0     Turn on the lights         activate  lights     none             0   \n",
       "1    Turn off the lights       deactivate  lights     none             4   \n",
       "2        Change language  change language    none     none             2   \n",
       "3        Pause the music       deactivate   music     none             4   \n",
       "4                 Resume         activate   music     none             0   \n",
       "5            Volume down         decrease  volume     none             3   \n",
       "6     Turn the lights on         activate  lights     none             0   \n",
       "7   Switch on the lights         activate  lights     none             0   \n",
       "8              Lights on         activate  lights     none             0   \n",
       "9  Switch off the lights       deactivate  lights     none             4   \n",
       "\n",
       "   object_label  location_label  \n",
       "0             3               0  \n",
       "1             3               0  \n",
       "2             0               0  \n",
       "3            10               0  \n",
       "4            10               0  \n",
       "5             4               0  \n",
       "6             3               0  \n",
       "7             3               0  \n",
       "8             3               0  \n",
       "9             3               0  "
      ]
     },
     "execution_count": 18,
     "metadata": {},
     "output_type": "execute_result"
    }
   ],
   "source": [
    "val_data.head(10)"
   ]
  },
  {
   "cell_type": "code",
   "execution_count": null,
   "id": "2eedbf7f",
   "metadata": {},
   "outputs": [],
   "source": [
    "# !tensorflow --version"
   ]
  },
  {
   "cell_type": "code",
   "execution_count": 19,
   "id": "b172c1d2",
   "metadata": {},
   "outputs": [],
   "source": [
    "y_train = train_data[['action_label', 'object_label', 'location_label']].to_numpy()\n",
    "y_val = val_data[['action_label', 'object_label', 'location_label']].to_numpy()"
   ]
  },
  {
   "cell_type": "code",
   "execution_count": 20,
   "id": "2377af98",
   "metadata": {},
   "outputs": [],
   "source": [
    "from tensorflow.keras.preprocessing.text import Tokenizer\n",
    "from tensorflow.keras.preprocessing.sequence import pad_sequences\n",
    "\n",
    "# Limit on the number of features to K features.\n",
    "TOP_K = 5000\n",
    "\n",
    "# Limit on the length of text sequences. \n",
    "# Sequences longer than this will be truncated.\n",
    "# and less than it will be padded\n",
    "MAX_SEQUENCE_LENGTH = 24\n",
    "\n",
    "class CustomTokenizer:\n",
    "    def __init__(self, training_texts):\n",
    "        self.train_texts = training_texts\n",
    "        self.tokenizer = Tokenizer(num_words=TOP_K)\n",
    "        \n",
    "    def train_tokenize(self):\n",
    "        # Get max sequence length.\n",
    "        max_length = len(max(self.train_texts , key=len))\n",
    "        self.max_length = min(max_length, MAX_SEQUENCE_LENGTH)\n",
    "    \n",
    "        # Create vocabulary with training texts.\n",
    "        self.tokenizer.fit_on_texts(self.train_texts)\n",
    "        \n",
    "    def vectorize_input(self, texts):\n",
    "        # Vectorize training and validation texts.\n",
    "        \n",
    "        texts = self.tokenizer.texts_to_sequences(texts)\n",
    "        # Fix sequence length to max value. Sequences shorter than the length are\n",
    "        # padded in the beginning and sequences longer are truncated\n",
    "        # at the beginning.\n",
    "        texts = pad_sequences(texts, maxlen=self.max_length, \n",
    "                              truncating='post', padding='post')\n",
    "        return texts\n",
    "    \n",
    "tokenizer = CustomTokenizer(training_texts = train_data['transcription'])\n",
    "# fit o the train\n",
    "tokenizer.train_tokenize()\n",
    "tokenized_train = tokenizer.vectorize_input(train_data['transcription'])\n",
    "tokenized_val = tokenizer.vectorize_input(val_data['transcription'])"
   ]
  },
  {
   "cell_type": "code",
   "execution_count": 21,
   "id": "39f9b5d2",
   "metadata": {},
   "outputs": [
    {
     "data": {
      "text/plain": [
       "array([[ 2,  5,  1, ...,  0,  0,  0],\n",
       "       [ 2,  6,  1, ...,  0,  0,  0],\n",
       "       [49, 50, 10, ...,  0,  0,  0],\n",
       "       ...,\n",
       "       [24, 36,  0, ...,  0,  0,  0],\n",
       "       [15, 79,  0, ...,  0,  0,  0],\n",
       "       [ 2, 12,  1, ...,  0,  0,  0]])"
      ]
     },
     "execution_count": 21,
     "metadata": {},
     "output_type": "execute_result"
    }
   ],
   "source": [
    "tokenized_train"
   ]
  },
  {
   "cell_type": "code",
   "execution_count": 22,
   "id": "e21b65e6",
   "metadata": {},
   "outputs": [
    {
     "data": {
      "text/plain": [
       "array([[ 2,  5,  1, ...,  0,  0,  0],\n",
       "       [ 2, 12,  1, ...,  0,  0,  0],\n",
       "       [54, 14,  0, ...,  0,  0,  0],\n",
       "       ...,\n",
       "       [ 2,  1,  4, ...,  0,  0,  0],\n",
       "       [ 4, 12,  0, ...,  0,  0,  0],\n",
       "       [15,  6,  0, ...,  0,  0,  0]])"
      ]
     },
     "execution_count": 22,
     "metadata": {},
     "output_type": "execute_result"
    }
   ],
   "source": [
    "tokenized_val"
   ]
  },
  {
   "cell_type": "code",
   "execution_count": null,
   "id": "2f05c02c",
   "metadata": {
    "scrolled": true
   },
   "outputs": [],
   "source": [
    "import os\n",
    "import tqdm\n",
    "import requests\n",
    "import zipfile\n",
    "URL = \"https://nlp.stanford.edu/data/glove.6B.zip\"\n",
    "\n",
    "def fetch_data(url=URL, target_file='glove6B.zip', delete_zip=False):\n",
    "    #if the dataset already exists exit\n",
    "    if os.path.isfile(target_file):\n",
    "        print(\"datasets already downloded :) \")\n",
    "        return\n",
    "    print(\"**************************\")\n",
    "    print(\"  Downloading zip file\")\n",
    "    print(\"  >_<  Please wait >_< \")\n",
    "    print(\"**************************\")\n",
    "    response = requests.get(url, stream=True)\n",
    "    #read chunk by chunk\n",
    "    handle = open(target_file, \"wb\")\n",
    "    for chunk in tqdm.tqdm(response.iter_content(chunk_size=4096)):\n",
    "        if chunk:  \n",
    "            handle.write(chunk)\n",
    "    handle.close()  \n",
    "    print(\"  Download completed ;) :\") \n",
    "    #extract zip_file\n",
    "    zf = zipfile.ZipFile(target_file)\n",
    "    print(\"1. Extracting {} file\".format(target_file))\n",
    "    zf.extractall()\n",
    "    if delete_zip:\n",
    "        print(\"2. Deleting {} file\".format(dataset_name+\".zip\"))\n",
    "        os.remove(path=zip_file)\n",
    "\n",
    "fetch_data()"
   ]
  },
  {
   "cell_type": "code",
   "execution_count": 23,
   "id": "59d47ad0",
   "metadata": {},
   "outputs": [
    {
     "name": "stderr",
     "output_type": "stream",
     "text": [
      "100%|███████████████████████████████████████████████████████████████████████████████| 98/98 [00:00<00:00, 38147.73it/s]\n"
     ]
    }
   ],
   "source": [
    "glove_file = \"glove.6B.50d.txt\"\n",
    "import tqdm\n",
    "\n",
    "EMBEDDING_VECTOR_LENGTH = 50 # <=200\n",
    "def construct_embedding_matrix(glove_file, word_index):\n",
    "    embedding_dict = {}\n",
    "    with open(glove_file,'r', encoding='utf-8') as f:\n",
    "        for line in f:\n",
    "            values=line.split()\n",
    "            # get the word\n",
    "            word=values[0]\n",
    "            if word in word_index.keys():\n",
    "                # get the vector\n",
    "                vector = np.asarray(values[1:], 'float32')\n",
    "                embedding_dict[word] = vector\n",
    "    ###  oov words (out of vacabulary words) will be mapped to 0 vectors\n",
    "\n",
    "    num_words=len(word_index)+1\n",
    "    #initialize it to 0\n",
    "    embedding_matrix=np.zeros((num_words, EMBEDDING_VECTOR_LENGTH))\n",
    "\n",
    "    for word, i in tqdm.tqdm(word_index.items()):\n",
    "        if i < num_words:\n",
    "            vect=embedding_dict.get(word, [])\n",
    "            if len(vect)>0:\n",
    "                embedding_matrix[i] = vect[:EMBEDDING_VECTOR_LENGTH]\n",
    "    return embedding_matrix\n",
    "  \n",
    "embedding_matrix =  construct_embedding_matrix(glove_file, tokenizer.tokenizer.word_index)"
   ]
  },
  {
   "cell_type": "code",
   "execution_count": 24,
   "id": "d4144d53",
   "metadata": {},
   "outputs": [
    {
     "data": {
      "text/plain": [
       "array([ 0.45341   , -0.71043998,  0.25826001, -0.015757  ,  0.14648999,\n",
       "        0.031418  , -1.0812    ,  0.31885999,  0.055295  , -0.12677   ,\n",
       "       -0.45668   ,  0.030006  , -0.81975001,  0.55072999,  0.15524   ,\n",
       "       -0.018467  ,  0.074422  , -0.56718999, -1.55379999, -0.60282999,\n",
       "        0.16099   ,  0.45486999,  0.17386   , -0.24203999,  0.38416001,\n",
       "       -1.97259998,  1.01300001,  0.80808002,  0.88331997, -0.93519998,\n",
       "        3.55640006,  0.56330001,  0.036648  ,  0.94055998,  0.045721  ,\n",
       "        0.013343  , -0.27625   ,  0.14872999,  0.37149   , -0.15765999,\n",
       "       -0.33456001,  0.71517998,  0.24446   ,  0.087958  , -0.11456   ,\n",
       "        0.13934   ,  0.33379   , -0.84455001,  0.24269   , -0.66447002])"
      ]
     },
     "execution_count": 24,
     "metadata": {},
     "output_type": "execute_result"
    }
   ],
   "source": [
    "embedding_matrix[12]"
   ]
  },
  {
   "cell_type": "code",
   "execution_count": 25,
   "id": "365c572a",
   "metadata": {},
   "outputs": [],
   "source": [
    "def recall_m(y_true, y_pred):\n",
    "    y_pred = tf.argmax(y_pred, axis=1)\n",
    "    conf_mat =  tf.math.confusion_matrix(y_true, y_pred, dtype=tf.float32)\n",
    "    all_pos_count = tf.reduce_sum(conf_mat, axis=1)\n",
    "    all_pos_count = tf.where(all_pos_count==0, 1e-06, all_pos_count)\n",
    "    recall = tf.divide(tf.linalg.diag_part(conf_mat), all_pos_count)\n",
    "    return tf.reduce_mean(recall)\n",
    "\n",
    "def precision_m(y_true, y_pred):\n",
    "    y_pred = tf.argmax(y_pred, axis=1)\n",
    "    conf_mat =  tf.math.confusion_matrix(y_true, y_pred, dtype=tf.float32)\n",
    "    all_pos_count = tf.reduce_sum(conf_mat, axis=0)\n",
    "    all_pos_count = tf.where(all_pos_count==0, 1e-06, all_pos_count)\n",
    "    precision = tf.divide(tf.linalg.diag_part(conf_mat), all_pos_count)\n",
    "    return tf.reduce_mean(precision)\n",
    "\n",
    "def f1_score(y_true, y_pred):\n",
    "    y_pred = tf.argmax(y_pred, axis=1)\n",
    "    conf_mat =  tf.math.confusion_matrix(y_true, y_pred, dtype=tf.float32)\n",
    "    \n",
    "    # Recall\n",
    "    actual_pos_count = tf.reduce_sum(conf_mat, axis=1)\n",
    "    actual_pos_count = tf.where(actual_pos_count==0, 1e-06, actual_pos_count)\n",
    "    recall = tf.divide(tf.linalg.diag_part(conf_mat), actual_pos_count)\n",
    "    \n",
    "    # Precision\n",
    "    pred_pos_count = tf.reduce_sum(conf_mat, axis=0)\n",
    "    pred_pos_count = tf.where(pred_pos_count==0, 1e-06, pred_pos_count)\n",
    "    precision = tf.divide(tf.linalg.diag_part(conf_mat), pred_pos_count)\n",
    "    \n",
    "    # F1-Score\n",
    "    f1 = tf.math.divide((2 * tf.math.multiply(precision, recall)), tf.math.add(precision, recall)+1e-9)\n",
    "    return tf.reduce_mean(f1)"
   ]
  },
  {
   "cell_type": "code",
   "execution_count": 31,
   "id": "d57ddc65",
   "metadata": {},
   "outputs": [],
   "source": [
    "class ActionClassifierBlock(tf.keras.layers.Layer):\n",
    "    def __init__(self, name='action_block'):\n",
    "        super(ActionClassifierBlock, self).__init__(name=name)\n",
    "        self.layer_1 = tf.keras.layers.LSTM(units=128,\n",
    "                                            dropout=0.2,\n",
    "                                            recurrent_dropout=0.5,\n",
    "                                            name='action_lstm'\n",
    "                                            )\n",
    "        self.layer_2 = tf.keras.layers.Dense(units=6,\n",
    "                                             activation='softmax',\n",
    "                                             name='action'\n",
    "                                             )\n",
    "\n",
    "    def call(self, inputs, *args, **kwargs):\n",
    "        x = self.layer_1(inputs)\n",
    "        x = self.layer_2(x)\n",
    "        return x\n",
    "\n",
    "    def get_config(self):\n",
    "        return {'action_lstm': self.layer_1,\n",
    "                'action': self.layer_2\n",
    "                }\n",
    "\n",
    "    @classmethod\n",
    "    def from_config(cls, config):\n",
    "        return cls(**config)\n",
    "\n",
    "\n",
    "class ObjectClassifierBlock(tf.keras.layers.Layer):\n",
    "    def __init__(self, name='object_block'):\n",
    "        super(ObjectClassifierBlock, self).__init__(name=name)\n",
    "        self.layer_1 = tf.keras.layers.LSTM(units=128,\n",
    "                                            dropout=0.2,\n",
    "                                            recurrent_dropout=0.5,\n",
    "                                            return_sequences=True,\n",
    "                                            name='object_lstm_1'\n",
    "                                            )\n",
    "        self.layer_2 = tf.keras.layers.LSTM(units=32,\n",
    "                                            dropout=0.2,\n",
    "                                            recurrent_dropout=0.5,\n",
    "                                            return_sequences=False,\n",
    "                                            name='object_lstm_2'\n",
    "                                            )\n",
    "        self.layer_3 = tf.keras.layers.Dense(units=14,\n",
    "                                             activation='softmax',\n",
    "                                             name='object'\n",
    "                                             )\n",
    "\n",
    "    def call(self, inputs, *args, **kwargs):\n",
    "        x = self.layer_1(inputs)\n",
    "        x = self.layer_2(x)\n",
    "        x = self.layer_3(x)\n",
    "        return x\n",
    "\n",
    "    def get_config(self):\n",
    "        return {'object_lstm_1': self.layer_1,\n",
    "                'object_lstm_2': self.layer_2,\n",
    "                'object': self.layer_3\n",
    "                }\n",
    "\n",
    "    @classmethod\n",
    "    def from_config(cls, config):\n",
    "        return cls(**config)\n",
    "\n",
    "\n",
    "class LocationClassifierBlock(tf.keras.layers.Layer):\n",
    "    def __init__(self, name='location_block'):\n",
    "        super(LocationClassifierBlock, self).__init__(name=name)\n",
    "        self.layer_1 = tf.keras.layers.LSTM(units=64,\n",
    "                                            dropout=0.2,\n",
    "                                            recurrent_dropout=0.5,\n",
    "                                            name='location_lstm'\n",
    "                                            )\n",
    "        self.layer_2 = tf.keras.layers.Dense(units=4,\n",
    "                                             activation='softmax',\n",
    "                                             name='location'\n",
    "                                             )\n",
    "\n",
    "    def call(self, inputs, *args, **kwargs):\n",
    "        x = self.layer_1(inputs)\n",
    "        x = self.layer_2(x)\n",
    "        return x\n",
    "\n",
    "    def get_config(self):\n",
    "        return {'location_lstm': self.layer_1,\n",
    "                'location': self.layer_2\n",
    "                }\n",
    "\n",
    "    @classmethod\n",
    "    def from_config(cls, config):\n",
    "        return cls(**config)\n",
    "\n",
    "\n",
    "class TextMultiLabeledClassifier(tf.keras.Model):\n",
    "    def __init__(self, unique_tokens, emb_size, name='classifier'):\n",
    "        super(TextMultiLabeledClassifier, self).__init__(name=name)\n",
    "        # self.inputs = tf.keras.layers.Input(shape=(max_seq_len,))\n",
    "        self.embedding = tf.keras.layers.Embedding(input_dim=unique_tokens,\n",
    "                                                   output_dim=emb_size,\n",
    "                                                   trainable=True,\n",
    "                                                   name='embedding'\n",
    "                                                   )\n",
    "        # self.dropout = tf.keras.layers.Dropout(rate=0.2, name='dropout')\n",
    "        self.action_block = ActionClassifierBlock()\n",
    "        self.object_block = ObjectClassifierBlock()\n",
    "        self.locat_block = LocationClassifierBlock()\n",
    "\n",
    "    def call(self, inputs, *args, **kwargs):\n",
    "        x = self.embedding(inputs)\n",
    "        # x = self.dropout(x)\n",
    "        x1 = self.action_block.call(x)\n",
    "        x2 = self.object_block.call(x)\n",
    "        x3 = self.locat_block.call(x)\n",
    "        return [x1, x2, x3]\n",
    "\n",
    "    def get_config(self):\n",
    "        return {'embedding': self.embedding,\n",
    "                # 'dropout': self.dropout,\n",
    "                'action_block': self.action_block,\n",
    "                'object_block': self.object_block,\n",
    "                'location_block': self.locat_block\n",
    "                }\n",
    "\n",
    "    @classmethod\n",
    "    def from_config(cls, config, custom_objects=None):\n",
    "        return cls(**config)"
   ]
  },
  {
   "cell_type": "code",
   "execution_count": 27,
   "id": "61cf4bbe",
   "metadata": {},
   "outputs": [],
   "source": [
    "class TextMultiLabeledClassifier(tf.keras.Model):\n",
    "    def __init__(self, unique_tokens, emb_size, name='classifier'):\n",
    "        super(TextMultiLabeledClassifier, self).__init__(name=name)\n",
    "        # self.inputs = tf.keras.layers.Input(shape=(max_seq_len,))\n",
    "        self.embedding = tf.keras.layers.Embedding(input_dim=unique_tokens,\n",
    "                                                   output_dim=emb_size,\n",
    "                                                   trainable=True\n",
    "                                                  )\n",
    "        self.dropout = tf.keras.layers.Dropout(rate=0.2)\n",
    "        self.action_block = ActionClassifierBlock()\n",
    "        self.object_block = ObjectClassifierBlock()\n",
    "        self.locat_block = LocationClassifierBlock()\n",
    "        \n",
    "    def call(self, x):\n",
    "        x = self.embedding(x)\n",
    "        x = self.dropout(x)\n",
    "        x1 = self.action_block.call(x)\n",
    "        x2 = self.object_block.call(x)\n",
    "        x3 = self.locat_block.call(x)\n",
    "        return [x1, x2, x3]"
   ]
  },
  {
   "cell_type": "code",
   "execution_count": 35,
   "id": "871be58f",
   "metadata": {},
   "outputs": [],
   "source": [
    "tmlc = TextMultiLabeledClassifier(unique_tokens=len(tokenizer.tokenizer.word_index)+1, \n",
    "                                  emb_size=50,\n",
    "                                 )\n",
    "\n",
    "inputs = tf.keras.layers.Input(shape=(tokenizer.max_length,), name='input_layer')\n",
    "outputs = tmlc.call(inputs)\n",
    "model = tf.keras.models.Model(inputs=inputs, outputs=outputs, name='text_classifier')"
   ]
  },
  {
   "cell_type": "code",
   "execution_count": 36,
   "id": "35d6608a",
   "metadata": {},
   "outputs": [
    {
     "data": {
      "image/png": "[encoded data removed]",
      "text/plain": [
       "<IPython.core.display.Image object>"
      ]
     },
     "execution_count": 36,
     "metadata": {},
     "output_type": "execute_result"
    }
   ],
   "source": [
    "tf.keras.utils.plot_model(model, show_shapes=True, show_dtype=True, expand_nested=True)"
   ]
  },
  {
   "cell_type": "code",
   "execution_count": 37,
   "id": "b2c59a52",
   "metadata": {
    "scrolled": true
   },
   "outputs": [
    {
     "name": "stdout",
     "output_type": "stream",
     "text": [
      "Model: \"text_classifier\"\n",
      "__________________________________________________________________________________________________\n",
      " Layer (type)                   Output Shape         Param #     Connected to                     \n",
      "==================================================================================================\n",
      " input_layer (InputLayer)       [(None, 24)]         0           []                               \n",
      "                                                                                                  \n",
      " embedding (Embedding)          (None, 24, 50)       4950        ['input_layer[0][0]']            \n",
      "                                                                                                  \n",
      " object_lstm_1 (LSTM)           (None, 24, 128)      91648       ['embedding[0][0]']              \n",
      "                                                                                                  \n",
      " action_lstm (LSTM)             (None, 128)          91648       ['embedding[0][0]']              \n",
      "                                                                                                  \n",
      " object_lstm_2 (LSTM)           (None, 32)           20608       ['object_lstm_1[0][0]']          \n",
      "                                                                                                  \n",
      " location_lstm (LSTM)           (None, 64)           29440       ['embedding[0][0]']              \n",
      "                                                                                                  \n",
      " action (Dense)                 (None, 6)            774         ['action_lstm[0][0]']            \n",
      "                                                                                                  \n",
      " object (Dense)                 (None, 14)           462         ['object_lstm_2[0][0]']          \n",
      "                                                                                                  \n",
      " location (Dense)               (None, 4)            260         ['location_lstm[0][0]']          \n",
      "                                                                                                  \n",
      "==================================================================================================\n",
      "Total params: 239,790\n",
      "Trainable params: 239,790\n",
      "Non-trainable params: 0\n",
      "__________________________________________________________________________________________________\n"
     ]
    }
   ],
   "source": [
    "model.summary()"
   ]
  },
  {
   "cell_type": "code",
   "execution_count": 38,
   "id": "f1ccb3d7",
   "metadata": {},
   "outputs": [
    {
     "name": "stdout",
     "output_type": "stream",
     "text": [
      "Model: \"text_classifier\"\n",
      "__________________________________________________________________________________________________\n",
      " Layer (type)                   Output Shape         Param #     Connected to                     \n",
      "==================================================================================================\n",
      " input_layer (InputLayer)       [(None, 24)]         0           []                               \n",
      "                                                                                                  \n",
      " embedding (Embedding)          (None, 24, 50)       4950        ['input_layer[0][0]']            \n",
      "                                                                                                  \n",
      " object_lstm_1 (LSTM)           (None, 24, 128)      91648       ['embedding[0][0]']              \n",
      "                                                                                                  \n",
      " action_lstm (LSTM)             (None, 128)          91648       ['embedding[0][0]']              \n",
      "                                                                                                  \n",
      " object_lstm_2 (LSTM)           (None, 32)           20608       ['object_lstm_1[0][0]']          \n",
      "                                                                                                  \n",
      " location_lstm (LSTM)           (None, 64)           29440       ['embedding[0][0]']              \n",
      "                                                                                                  \n",
      " action (Dense)                 (None, 6)            774         ['action_lstm[0][0]']            \n",
      "                                                                                                  \n",
      " object (Dense)                 (None, 14)           462         ['object_lstm_2[0][0]']          \n",
      "                                                                                                  \n",
      " location (Dense)               (None, 4)            260         ['location_lstm[0][0]']          \n",
      "                                                                                                  \n",
      "==================================================================================================\n",
      "Total params: 239,790\n",
      "Trainable params: 239,790\n",
      "Non-trainable params: 0\n",
      "__________________________________________________________________________________________________\n",
      "Epoch 1/10\n",
      "91/91 [==============================] - 71s 463ms/step - loss: 4.1821 - action_loss: 1.4009 - object_loss: 1.8962 - location_loss: 0.8850 - action_accuracy: 0.3426 - action_f1_score: 0.1745 - object_accuracy: 0.3771 - object_f1_score: 0.0684 - location_accuracy: 0.6529 - location_f1_score: 0.2589 - val_loss: 2.5239 - val_action_loss: 0.9095 - val_object_loss: 1.1627 - val_location_loss: 0.4517 - val_action_accuracy: 0.6139 - val_action_f1_score: 0.3905 - val_object_accuracy: 0.5603 - val_object_f1_score: 0.1434 - val_location_accuracy: 0.7758 - val_location_f1_score: 0.4000\n",
      "Epoch 2/10\n",
      "91/91 [==============================] - 37s 410ms/step - loss: 1.9978 - action_loss: 0.6222 - object_loss: 0.9548 - location_loss: 0.4208 - action_accuracy: 0.7116 - action_f1_score: 0.5226 - object_accuracy: 0.6488 - object_f1_score: 0.2661 - location_accuracy: 0.7854 - location_f1_score: 0.4030 - val_loss: 1.4379 - val_action_loss: 0.3621 - val_object_loss: 0.6457 - val_location_loss: 0.4301 - val_action_accuracy: 0.7261 - val_action_f1_score: 0.5222 - val_object_accuracy: 0.8419 - val_object_f1_score: 0.3870 - val_location_accuracy: 0.7758 - val_location_f1_score: 0.4000\n",
      "Epoch 3/10\n",
      "91/91 [==============================] - 40s 439ms/step - loss: 1.2706 - action_loss: 0.3508 - object_loss: 0.5040 - location_loss: 0.4158 - action_accuracy: 0.7918 - action_f1_score: 0.6348 - object_accuracy: 0.8431 - object_f1_score: 0.4468 - location_accuracy: 0.7864 - location_f1_score: 0.4062 - val_loss: 0.9601 - val_action_loss: 0.2454 - val_object_loss: 0.2876 - val_location_loss: 0.4271 - val_action_accuracy: 0.8810 - val_action_f1_score: 0.7892 - val_object_accuracy: 0.9108 - val_object_f1_score: 0.4862 - val_location_accuracy: 0.7758 - val_location_f1_score: 0.4000\n",
      "Epoch 4/10\n",
      "91/91 [==============================] - 39s 424ms/step - loss: 0.9373 - action_loss: 0.2025 - object_loss: 0.3313 - location_loss: 0.4035 - action_accuracy: 0.8866 - action_f1_score: 0.7806 - object_accuracy: 0.8850 - object_f1_score: 0.5504 - location_accuracy: 0.7946 - location_f1_score: 0.4354 - val_loss: 0.6963 - val_action_loss: 0.1226 - val_object_loss: 0.2054 - val_location_loss: 0.3684 - val_action_accuracy: 0.9250 - val_action_f1_score: 0.8285 - val_object_accuracy: 0.9355 - val_object_f1_score: 0.5411 - val_location_accuracy: 0.7970 - val_location_f1_score: 0.4717\n",
      "Epoch 5/10\n",
      "91/91 [==============================] - 36s 400ms/step - loss: 0.6827 - action_loss: 0.1839 - object_loss: 0.2432 - location_loss: 0.2556 - action_accuracy: 0.8961 - action_f1_score: 0.7831 - object_accuracy: 0.9112 - object_f1_score: 0.6099 - location_accuracy: 0.8726 - location_f1_score: 0.6579 - val_loss: 0.4599 - val_action_loss: 0.1199 - val_object_loss: 0.1743 - val_location_loss: 0.1658 - val_action_accuracy: 0.9250 - val_action_f1_score: 0.8285 - val_object_accuracy: 0.9349 - val_object_f1_score: 0.5422 - val_location_accuracy: 0.8996 - val_location_f1_score: 0.6976\n",
      "Epoch 6/10\n",
      "91/91 [==============================] - 35s 388ms/step - loss: 0.5238 - action_loss: 0.1484 - object_loss: 0.2019 - location_loss: 0.1735 - action_accuracy: 0.9066 - action_f1_score: 0.7940 - object_accuracy: 0.9250 - object_f1_score: 0.6510 - location_accuracy: 0.8957 - location_f1_score: 0.7274 - val_loss: 0.4141 - val_action_loss: 0.1183 - val_object_loss: 0.1356 - val_location_loss: 0.1602 - val_action_accuracy: 0.9250 - val_action_f1_score: 0.8285 - val_object_accuracy: 0.9673 - val_object_f1_score: 0.6055 - val_location_accuracy: 0.8951 - val_location_f1_score: 0.6731\n",
      "Epoch 7/10\n",
      "91/91 [==============================] - 35s 380ms/step - loss: 0.4605 - action_loss: 0.1420 - object_loss: 0.1738 - location_loss: 0.1447 - action_accuracy: 0.9065 - action_f1_score: 0.7951 - object_accuracy: 0.9397 - object_f1_score: 0.7023 - location_accuracy: 0.9237 - location_f1_score: 0.7887 - val_loss: 0.3094 - val_action_loss: 0.1192 - val_object_loss: 0.1170 - val_location_loss: 0.0732 - val_action_accuracy: 0.9064 - val_action_f1_score: 0.7573 - val_object_accuracy: 0.9609 - val_object_f1_score: 0.6029 - val_location_accuracy: 0.9743 - val_location_f1_score: 0.9439\n",
      "Epoch 8/10\n",
      "91/91 [==============================] - 35s 383ms/step - loss: 0.3554 - action_loss: 0.1431 - object_loss: 0.1519 - location_loss: 0.0604 - action_accuracy: 0.9064 - action_f1_score: 0.7945 - object_accuracy: 0.9470 - object_f1_score: 0.7304 - location_accuracy: 0.9810 - location_f1_score: 0.9581 - val_loss: 0.2151 - val_action_loss: 0.1169 - val_object_loss: 0.0906 - val_location_loss: 0.0076 - val_action_accuracy: 0.9250 - val_action_f1_score: 0.8285 - val_object_accuracy: 0.9673 - val_object_f1_score: 0.6159 - val_location_accuracy: 1.0000 - val_location_f1_score: 1.0000\n",
      "Epoch 9/10\n",
      "91/91 [==============================] - 36s 394ms/step - loss: 0.2985 - action_loss: 0.1547 - object_loss: 0.1240 - location_loss: 0.0198 - action_accuracy: 0.9036 - action_f1_score: 0.8007 - object_accuracy: 0.9547 - object_f1_score: 0.7569 - location_accuracy: 0.9947 - location_f1_score: 0.9893 - val_loss: 0.1974 - val_action_loss: 0.1172 - val_object_loss: 0.0772 - val_location_loss: 0.0030 - val_action_accuracy: 0.9250 - val_action_f1_score: 0.8285 - val_object_accuracy: 0.9740 - val_object_f1_score: 0.6238 - val_location_accuracy: 1.0000 - val_location_f1_score: 1.0000\n",
      "Epoch 10/10\n",
      "91/91 [==============================] - 37s 401ms/step - loss: 0.2593 - action_loss: 0.1438 - object_loss: 0.1058 - location_loss: 0.0096 - action_accuracy: 0.9058 - action_f1_score: 0.7940 - object_accuracy: 0.9597 - object_f1_score: 0.7680 - location_accuracy: 0.9981 - location_f1_score: 0.9960 - val_loss: 0.1878 - val_action_loss: 0.1172 - val_object_loss: 0.0687 - val_location_loss: 0.0018 - val_action_accuracy: 0.9250 - val_action_f1_score: 0.8285 - val_object_accuracy: 0.9740 - val_object_f1_score: 0.6238 - val_location_accuracy: 1.0000 - val_location_f1_score: 1.0000\n"
     ]
    }
   ],
   "source": [
    "optimizer = tf.keras.optimizers.Adam(learning_rate=0.001)\n",
    "\n",
    "model.compile(optimizer=optimizer, \n",
    "              loss='sparse_categorical_crossentropy', \n",
    "              metrics=['accuracy', f1_score])\n",
    "\n",
    "model.summary()\n",
    "\n",
    "# fit the model\n",
    "history = model.fit(tokenized_train, [y_train[:,0], y_train[:,1], y_train[:,2]], \n",
    "                    batch_size=128, \n",
    "                    epochs=10,\n",
    "                    validation_data=(tokenized_val, [y_val[:, 0], y_val[:, 1], y_val[:, 2]]\n",
    "                                    )\n",
    "                   )"
   ]
  },
  {
   "cell_type": "code",
   "execution_count": null,
   "id": "b031a23a",
   "metadata": {},
   "outputs": [],
   "source": []
  },
  {
   "cell_type": "code",
   "execution_count": null,
   "id": "a7a649dc",
   "metadata": {},
   "outputs": [],
   "source": []
  },
  {
   "cell_type": "code",
   "execution_count": 247,
   "id": "f62a99e8",
   "metadata": {},
   "outputs": [
    {
     "name": "stdout",
     "output_type": "stream",
     "text": [
      "Model: \"model_17\"\n",
      "__________________________________________________________________________________________________\n",
      " Layer (type)                   Output Shape         Param #     Connected to                     \n",
      "==================================================================================================\n",
      " input_25 (InputLayer)          [(None, 15)]         0           []                               \n",
      "                                                                                                  \n",
      " embedding_54 (Embedding)       (None, 15, 50)       4950        ['input_25[0][0]']               \n",
      "                                                                                                  \n",
      " dropout_64 (Dropout)           (None, 15, 50)       0           ['embedding_54[0][0]']           \n",
      "                                                                                                  \n",
      " lstm_63 (LSTM)                 (None, 64)           29440       ['dropout_64[0][0]']             \n",
      "                                                                                                  \n",
      " lstm_64 (LSTM)                 (None, 128)          91648       ['dropout_64[0][0]']             \n",
      "                                                                                                  \n",
      " lstm_65 (LSTM)                 (None, 64)           29440       ['dropout_64[0][0]']             \n",
      "                                                                                                  \n",
      " dense_61 (Dense)               (None, 6)            390         ['lstm_63[0][0]']                \n",
      "                                                                                                  \n",
      " dense_62 (Dense)               (None, 14)           1806        ['lstm_64[0][0]']                \n",
      "                                                                                                  \n",
      " dense_63 (Dense)               (None, 4)            260         ['lstm_65[0][0]']                \n",
      "                                                                                                  \n",
      "==================================================================================================\n",
      "Total params: 157,934\n",
      "Trainable params: 157,934\n",
      "Non-trainable params: 0\n",
      "__________________________________________________________________________________________________\n"
     ]
    }
   ],
   "source": [
    "def textmulticlassifier():\n",
    "    inputs = tf.keras.layers.Input(shape=(tokenizer.max_length,))\n",
    "    embedding=Embedding(input_dim=len(tokenizer.tokenizer.word_index)+1, # number of unique tokens\n",
    "                        output_dim=EMBEDDING_VECTOR_LENGTH, #number of features\n",
    "                        # embeddings_initializer=Constant(embedding_matrix), # initialize \n",
    "                        #input_length=MAX_SEQUENCE_LENGTH, \n",
    "                        trainable=True)\n",
    "    x = embedding(inputs)\n",
    "    x = Dropout(rate=0.2)(x)\n",
    "    x1 = LSTM(64, dropout=0.2, recurrent_dropout=0.5)(x)\n",
    "    x1 = Dense(6, activation='softmax')(x1)\n",
    "\n",
    "    x2 = LSTM(128, dropout=0.2, recurrent_dropout=0.5)(x)\n",
    "    #x2 = LSTM(32, dropout=0.2, recurrent_dropout=0.5)(x2)\n",
    "    x2 = Dense(14, activation='softmax')(x2)\n",
    "    \n",
    "    x3 = LSTM(64, dropout=0.2, recurrent_dropout=0.5)(x)\n",
    "    x3 = Dense(4, activation='softmax')(x3)\n",
    "    return tf.keras.Model(inputs=inputs, outputs=[x1, x2, x3])\n",
    "\n",
    "model = textmulticlassifier()\n",
    "model.summary()"
   ]
  },
  {
   "cell_type": "code",
   "execution_count": 214,
   "id": "4b99dd79",
   "metadata": {},
   "outputs": [
    {
     "name": "stdout",
     "output_type": "stream",
     "text": [
      "You must install pydot (`pip install pydot`) and install graphviz (see instructions at https://graphviz.gitlab.io/download/) for plot_model/model_to_dot to work.\n"
     ]
    }
   ],
   "source": [
    "tf.keras.utils.plot_model(model)"
   ]
  },
  {
   "cell_type": "code",
   "execution_count": 231,
   "id": "dc5fc601",
   "metadata": {},
   "outputs": [
    {
     "data": {
      "text/plain": [
       "array([0, 1, 2, 3], dtype=int64)"
      ]
     },
     "execution_count": 231,
     "metadata": {},
     "output_type": "execute_result"
    }
   ],
   "source": [
    "np.unique(y_train[:,2])"
   ]
  },
  {
   "cell_type": "code",
   "execution_count": 233,
   "id": "79e022ff",
   "metadata": {},
   "outputs": [
    {
     "name": "stdout",
     "output_type": "stream",
     "text": [
      "Model: \"model_14\"\n",
      "__________________________________________________________________________________________________\n",
      " Layer (type)                   Output Shape         Param #     Connected to                     \n",
      "==================================================================================================\n",
      " input_20 (InputLayer)          [(None, 15)]         0           []                               \n",
      "                                                                                                  \n",
      " embedding_49 (Embedding)       (None, 15, 50)       4950        ['input_20[0][0]']               \n",
      "                                                                                                  \n",
      " dropout_57 (Dropout)           (None, 15, 50)       0           ['embedding_49[0][0]']           \n",
      "                                                                                                  \n",
      " dropout_58 (Dropout)           (None, 15, 50)       0           ['embedding_49[0][0]']           \n",
      "                                                                                                  \n",
      " dropout_59 (Dropout)           (None, 15, 50)       0           ['embedding_49[0][0]']           \n",
      "                                                                                                  \n",
      " lstm_57 (LSTM)                 (None, 64)           29440       ['dropout_57[0][0]']             \n",
      "                                                                                                  \n",
      " lstm_58 (LSTM)                 (None, 64)           29440       ['dropout_58[0][0]']             \n",
      "                                                                                                  \n",
      " lstm_59 (LSTM)                 (None, 64)           29440       ['dropout_59[0][0]']             \n",
      "                                                                                                  \n",
      " dense_57 (Dense)               (None, 6)            390         ['lstm_57[0][0]']                \n",
      "                                                                                                  \n",
      " dense_58 (Dense)               (None, 14)           910         ['lstm_58[0][0]']                \n",
      "                                                                                                  \n",
      " dense_59 (Dense)               (None, 4)            260         ['lstm_59[0][0]']                \n",
      "                                                                                                  \n",
      "==================================================================================================\n",
      "Total params: 94,830\n",
      "Trainable params: 94,830\n",
      "Non-trainable params: 0\n",
      "__________________________________________________________________________________________________\n",
      "None\n",
      "Epoch 1/10\n",
      "91/91 [==============================] - 20s 126ms/step - loss: 2.5770 - dense_57_loss: 0.9752 - dense_58_loss: 1.0188 - dense_59_loss: 0.5830 - dense_57_accuracy: 0.5097 - dense_57_f1_score: 0.3489 - dense_58_accuracy: 0.6319 - dense_58_f1_score: 0.2378 - dense_59_accuracy: 0.7402 - dense_59_f1_score: 0.3612 - val_loss: 1.1172 - val_dense_57_loss: 0.3535 - val_dense_58_loss: 0.3460 - val_dense_59_loss: 0.4178 - val_dense_57_accuracy: 0.7842 - val_dense_57_f1_score: 0.5887 - val_dense_58_accuracy: 0.8852 - val_dense_58_f1_score: 0.4356 - val_dense_59_accuracy: 0.7758 - val_dense_59_f1_score: 0.4000\n",
      "Epoch 2/10\n",
      "91/91 [==============================] - 10s 109ms/step - loss: 0.8770 - dense_57_loss: 0.2808 - dense_58_loss: 0.3579 - dense_59_loss: 0.2384 - dense_57_accuracy: 0.8451 - dense_57_f1_score: 0.7361 - dense_58_accuracy: 0.8673 - dense_58_f1_score: 0.4779 - dense_59_accuracy: 0.8663 - dense_59_f1_score: 0.6467 - val_loss: 0.4359 - val_dense_57_loss: 0.0771 - val_dense_58_loss: 0.2099 - val_dense_59_loss: 0.1490 - val_dense_57_accuracy: 0.9686 - val_dense_57_f1_score: 0.8508 - val_dense_58_accuracy: 0.9288 - val_dense_58_f1_score: 0.5303 - val_dense_59_accuracy: 0.9282 - val_dense_59_f1_score: 0.8137\n",
      "Epoch 3/10\n",
      "91/91 [==============================] - 10s 108ms/step - loss: 0.3280 - dense_57_loss: 0.0412 - dense_58_loss: 0.2214 - dense_59_loss: 0.0654 - dense_57_accuracy: 0.9914 - dense_57_f1_score: 0.9884 - dense_58_accuracy: 0.9208 - dense_58_f1_score: 0.6610 - dense_59_accuracy: 0.9752 - dense_59_f1_score: 0.9416 - val_loss: 0.1088 - val_dense_57_loss: 0.0049 - val_dense_58_loss: 0.1005 - val_dense_59_loss: 0.0034 - val_dense_57_accuracy: 1.0000 - val_dense_57_f1_score: 0.9533 - val_dense_58_accuracy: 0.9644 - val_dense_58_f1_score: 0.6166 - val_dense_59_accuracy: 1.0000 - val_dense_59_f1_score: 1.0000\n",
      "Epoch 4/10\n",
      "91/91 [==============================] - 10s 106ms/step - loss: 0.1414 - dense_57_loss: 0.0125 - dense_58_loss: 0.1168 - dense_59_loss: 0.0121 - dense_57_accuracy: 0.9979 - dense_57_f1_score: 0.9977 - dense_58_accuracy: 0.9585 - dense_58_f1_score: 0.7850 - dense_59_accuracy: 0.9971 - dense_59_f1_score: 0.9936 - val_loss: 0.0547 - val_dense_57_loss: 0.0026 - val_dense_58_loss: 0.0507 - val_dense_59_loss: 0.0014 - val_dense_57_accuracy: 1.0000 - val_dense_57_f1_score: 0.9533 - val_dense_58_accuracy: 0.9869 - val_dense_58_f1_score: 0.6580 - val_dense_59_accuracy: 1.0000 - val_dense_59_f1_score: 1.0000\n",
      "Epoch 5/10\n",
      "91/91 [==============================] - 10s 105ms/step - loss: 0.0916 - dense_57_loss: 0.0117 - dense_58_loss: 0.0728 - dense_59_loss: 0.0072 - dense_57_accuracy: 0.9974 - dense_57_f1_score: 0.9972 - dense_58_accuracy: 0.9751 - dense_58_f1_score: 0.8503 - dense_59_accuracy: 0.9984 - dense_59_f1_score: 0.9975 - val_loss: 0.0303 - val_dense_57_loss: 0.0019 - val_dense_58_loss: 0.0276 - val_dense_59_loss: 8.1752e-04 - val_dense_57_accuracy: 1.0000 - val_dense_57_f1_score: 0.9533 - val_dense_58_accuracy: 0.9869 - val_dense_58_f1_score: 0.6725 - val_dense_59_accuracy: 1.0000 - val_dense_59_f1_score: 1.0000\n",
      "Epoch 6/10\n",
      "91/91 [==============================] - 10s 109ms/step - loss: 0.0584 - dense_57_loss: 0.0073 - dense_58_loss: 0.0456 - dense_59_loss: 0.0054 - dense_57_accuracy: 0.9988 - dense_57_f1_score: 0.9991 - dense_58_accuracy: 0.9856 - dense_58_f1_score: 0.8847 - dense_59_accuracy: 0.9982 - dense_59_f1_score: 0.9961 - val_loss: 0.0231 - val_dense_57_loss: 0.0013 - val_dense_58_loss: 0.0211 - val_dense_59_loss: 6.6603e-04 - val_dense_57_accuracy: 1.0000 - val_dense_57_f1_score: 0.9533 - val_dense_58_accuracy: 0.9933 - val_dense_58_f1_score: 0.6895 - val_dense_59_accuracy: 1.0000 - val_dense_59_f1_score: 1.0000\n",
      "Epoch 7/10\n",
      "91/91 [==============================] - 10s 110ms/step - loss: 0.0496 - dense_57_loss: 0.0078 - dense_58_loss: 0.0387 - dense_59_loss: 0.0031 - dense_57_accuracy: 0.9985 - dense_57_f1_score: 0.9983 - dense_58_accuracy: 0.9870 - dense_58_f1_score: 0.8960 - dense_59_accuracy: 0.9994 - dense_59_f1_score: 0.9991 - val_loss: 0.0178 - val_dense_57_loss: 0.0011 - val_dense_58_loss: 0.0163 - val_dense_59_loss: 4.0796e-04 - val_dense_57_accuracy: 1.0000 - val_dense_57_f1_score: 0.9533 - val_dense_58_accuracy: 0.9904 - val_dense_58_f1_score: 0.6828 - val_dense_59_accuracy: 1.0000 - val_dense_59_f1_score: 1.0000\n",
      "Epoch 8/10\n",
      "91/91 [==============================] - 10s 108ms/step - loss: 0.0376 - dense_57_loss: 0.0042 - dense_58_loss: 0.0304 - dense_59_loss: 0.0030 - dense_57_accuracy: 0.9994 - dense_57_f1_score: 0.9994 - dense_58_accuracy: 0.9910 - dense_58_f1_score: 0.9103 - dense_59_accuracy: 0.9991 - dense_59_f1_score: 0.9982 - val_loss: 0.0090 - val_dense_57_loss: 8.6763e-04 - val_dense_58_loss: 0.0077 - val_dense_59_loss: 4.1442e-04 - val_dense_57_accuracy: 1.0000 - val_dense_57_f1_score: 0.9533 - val_dense_58_accuracy: 1.0000 - val_dense_58_f1_score: 0.7091 - val_dense_59_accuracy: 1.0000 - val_dense_59_f1_score: 1.0000\n",
      "Epoch 9/10\n",
      "91/91 [==============================] - 10s 107ms/step - loss: 0.0289 - dense_57_loss: 0.0022 - dense_58_loss: 0.0244 - dense_59_loss: 0.0024 - dense_57_accuracy: 0.9997 - dense_57_f1_score: 0.9996 - dense_58_accuracy: 0.9945 - dense_58_f1_score: 0.9394 - dense_59_accuracy: 0.9994 - dense_59_f1_score: 0.9988 - val_loss: 0.0054 - val_dense_57_loss: 6.9065e-04 - val_dense_58_loss: 0.0044 - val_dense_59_loss: 2.7632e-04 - val_dense_57_accuracy: 1.0000 - val_dense_57_f1_score: 0.9533 - val_dense_58_accuracy: 1.0000 - val_dense_58_f1_score: 0.7091 - val_dense_59_accuracy: 1.0000 - val_dense_59_f1_score: 1.0000\n"
     ]
    },
    {
     "name": "stdout",
     "output_type": "stream",
     "text": [
      "Epoch 10/10\n",
      "91/91 [==============================] - 10s 105ms/step - loss: 0.0165 - dense_57_loss: 0.0012 - dense_58_loss: 0.0139 - dense_59_loss: 0.0013 - dense_57_accuracy: 0.9999 - dense_57_f1_score: 0.9999 - dense_58_accuracy: 0.9971 - dense_58_f1_score: 0.9542 - dense_59_accuracy: 0.9998 - dense_59_f1_score: 0.9997 - val_loss: 0.0039 - val_dense_57_loss: 5.5237e-04 - val_dense_58_loss: 0.0031 - val_dense_59_loss: 2.3711e-04 - val_dense_57_accuracy: 1.0000 - val_dense_57_f1_score: 0.9533 - val_dense_58_accuracy: 1.0000 - val_dense_58_f1_score: 0.7091 - val_dense_59_accuracy: 1.0000 - val_dense_59_f1_score: 1.0000\n"
     ]
    }
   ],
   "source": [
    "model.compile(optimizer=optimizer, \n",
    "              loss='sparse_categorical_crossentropy', \n",
    "              metrics=['accuracy', f1_score])\n",
    "\n",
    "print(model.summary())\n",
    "\n",
    "# fit the model\n",
    "history = model.fit(tokenized_train, [y_train[:,0], y_train[:,1], y_train[:,2]], \n",
    "                    batch_size=128, \n",
    "                    epochs=10,\n",
    "                    validation_data=(tokenized_val, [y_val[:, 0], y_val[:, 1], y_val[:, 2]]\n",
    "                                    )\n",
    "                   )"
   ]
  },
  {
   "cell_type": "code",
   "execution_count": 174,
   "id": "e33db2ae",
   "metadata": {},
   "outputs": [
    {
     "name": "stdout",
     "output_type": "stream",
     "text": [
      "Model: \"sequential_34\"\n",
      "_________________________________________________________________\n",
      " Layer (type)                Output Shape              Param #   \n",
      "=================================================================\n",
      " embedding_36 (Embedding)    (None, 15, 50)            4950      \n",
      "                                                                 \n",
      " dropout_36 (Dropout)        (None, 15, 50)            0         \n",
      "                                                                 \n",
      " lstm_36 (LSTM)              (None, 64)                29440     \n",
      "                                                                 \n",
      " dense_36 (Dense)            (None, 4)                 260       \n",
      "                                                                 \n",
      "=================================================================\n",
      "Total params: 34,650\n",
      "Trainable params: 29,700\n",
      "Non-trainable params: 4,950\n",
      "_________________________________________________________________\n",
      "None\n",
      "Epoch 1/10\n",
      "91/91 [==============================] - 5s 30ms/step - loss: 0.6462 - accuracy: 0.7431 - f1_score: 0.4484 - val_loss: 0.1919 - val_accuracy: 0.9298 - val_f1_score: 0.8377\n",
      "Epoch 2/10\n",
      "91/91 [==============================] - 3s 32ms/step - loss: 0.1506 - accuracy: 0.9487 - f1_score: 0.8846 - val_loss: 0.0094 - val_accuracy: 1.0000 - val_f1_score: 1.0000\n",
      "Epoch 3/10\n",
      "91/91 [==============================] - 3s 32ms/step - loss: 0.0247 - accuracy: 0.9940 - f1_score: 0.9898 - val_loss: 0.0024 - val_accuracy: 1.0000 - val_f1_score: 1.0000\n",
      "Epoch 4/10\n",
      "91/91 [==============================] - 3s 33ms/step - loss: 0.0098 - accuracy: 0.9978 - f1_score: 0.9963 - val_loss: 0.0012 - val_accuracy: 1.0000 - val_f1_score: 1.0000\n",
      "Epoch 5/10\n",
      "91/91 [==============================] - 3s 32ms/step - loss: 0.0106 - accuracy: 0.9974 - f1_score: 0.9961 - val_loss: 8.5787e-04 - val_accuracy: 1.0000 - val_f1_score: 1.0000\n",
      "Epoch 6/10\n",
      "91/91 [==============================] - 3s 32ms/step - loss: 0.0085 - accuracy: 0.9980 - f1_score: 0.9968 - val_loss: 6.8727e-04 - val_accuracy: 1.0000 - val_f1_score: 1.0000\n",
      "Epoch 7/10\n",
      "91/91 [==============================] - 3s 33ms/step - loss: 0.0052 - accuracy: 0.9990 - f1_score: 0.9983 - val_loss: 4.9131e-04 - val_accuracy: 1.0000 - val_f1_score: 1.0000\n",
      "Epoch 8/10\n",
      "91/91 [==============================] - 3s 30ms/step - loss: 0.0053 - accuracy: 0.9986 - f1_score: 0.9977 - val_loss: 4.0857e-04 - val_accuracy: 1.0000 - val_f1_score: 1.0000\n",
      "Epoch 9/10\n",
      "91/91 [==============================] - 3s 31ms/step - loss: 0.0035 - accuracy: 0.9994 - f1_score: 0.9992 - val_loss: 3.1230e-04 - val_accuracy: 1.0000 - val_f1_score: 1.0000\n",
      "Epoch 10/10\n",
      "91/91 [==============================] - 3s 30ms/step - loss: 0.0044 - accuracy: 0.9990 - f1_score: 0.9983 - val_loss: 2.8442e-04 - val_accuracy: 1.0000 - val_f1_score: 1.0000\n"
     ]
    }
   ],
   "source": [
    "from keras.models import Sequential\n",
    "from keras.layers import Embedding,LSTM,Dense,SpatialDropout1D, Dropout\n",
    "from keras.initializers import Constant\n",
    "from keras.optimizers import Adam\n",
    "\n",
    "model=Sequential()\n",
    "\n",
    "embedding=Embedding(input_dim=len(tokenizer.tokenizer.word_index)+1, # number of unique tokens\n",
    "                    output_dim=EMBEDDING_VECTOR_LENGTH, #number of features\n",
    "                    embeddings_initializer=Constant(embedding_matrix), # initialize \n",
    "                    input_length=MAX_SEQUENCE_LENGTH, \n",
    "                    trainable=False)\n",
    "\n",
    "model.add(embedding)\n",
    "model.add(Dropout(0.2))\n",
    "model.add(LSTM(64, dropout=0.2, recurrent_dropout=0.5))\n",
    "model.add(Dense(4, activation='softmax'))\n",
    "# compile the model\n",
    "optimizer = Adam(clipvalue=0.5) # clip value to avoid the gradient exploding\n",
    "\n",
    "model.compile(optimizer=optimizer, \n",
    "              loss='sparse_categorical_crossentropy', \n",
    "              metrics=['accuracy', f1_score])\n",
    "\n",
    "print(model.summary())\n",
    "\n",
    "# fit the model\n",
    "history = model.fit(tokenized_train, y_train, \n",
    "                    batch_size=128, \n",
    "                    epochs=10, \n",
    "                    validation_data=(tokenized_val, y_val))"
   ]
  },
  {
   "cell_type": "code",
   "execution_count": 164,
   "id": "f36f364a",
   "metadata": {},
   "outputs": [],
   "source": [
    "def predictions(input_data):\n",
    "    preds = model.predict(tokenized_val)\n",
    "    return preds"
   ]
  },
  {
   "cell_type": "code",
   "execution_count": 165,
   "id": "030e7ae8",
   "metadata": {},
   "outputs": [
    {
     "name": "stdout",
     "output_type": "stream",
     "text": [
      "98/98 [==============================] - 1s 4ms/step\n",
      "[[9.9893016e-01 1.4774356e-04 3.3898660e-04 5.8304705e-04]\n",
      " [9.9902570e-01 1.3500209e-04 3.0465319e-04 5.3471670e-04]\n",
      " [9.9961507e-01 5.4664793e-05 1.1909434e-04 2.1121000e-04]\n",
      " [9.9957734e-01 5.9491082e-05 1.2990144e-04 2.3326423e-04]\n",
      " [9.9959761e-01 5.6857665e-05 1.2409076e-04 2.2148168e-04]\n",
      " [9.9960679e-01 5.5649863e-05 1.2117328e-04 2.1635079e-04]\n",
      " [9.9906617e-01 1.2924364e-04 2.8814608e-04 5.1646604e-04]\n",
      " [9.9854231e-01 1.9736869e-04 4.9460027e-04 7.6578237e-04]\n",
      " [9.9945897e-01 7.5348340e-05 1.6577134e-04 2.9997766e-04]\n",
      " [9.9873930e-01 1.7230814e-04 4.1501617e-04 6.7334773e-04]]\n"
     ]
    }
   ],
   "source": [
    "val_preds = predictions(tokenized_val)\n",
    "print(val_preds[:10])"
   ]
  },
  {
   "cell_type": "code",
   "execution_count": 82,
   "id": "167d9fa7",
   "metadata": {},
   "outputs": [],
   "source": [
    "from sklearn.metrics import confusion_matrix\n",
    "a = np.array([0, 1, 0, 2, 1, 2, 0])\n",
    "b = np.array([1, 0, 0, 1, 1, 2, 0])"
   ]
  },
  {
   "cell_type": "code",
   "execution_count": 166,
   "id": "3daf5758",
   "metadata": {},
   "outputs": [
    {
     "data": {
      "text/plain": [
       "<tf.Tensor: shape=(), dtype=float32, numpy=0.9999995>"
      ]
     },
     "execution_count": 166,
     "metadata": {},
     "output_type": "execute_result"
    }
   ],
   "source": [
    "f1_score(y_val, val_preds)"
   ]
  },
  {
   "cell_type": "code",
   "execution_count": 128,
   "id": "11772dd2",
   "metadata": {},
   "outputs": [
    {
     "name": "stdout",
     "output_type": "stream",
     "text": [
      "1.0\n"
     ]
    }
   ],
   "source": [
    "# y_pred = tf.argmax(b, axis=1)\n",
    "conf_mat =  confusion_matrix(y_val, val_preds)\n",
    "precision = np.diag(conf_mat)/np.sum(conf_mat, axis=0)\n",
    "print(np.mean(precision))"
   ]
  },
  {
   "cell_type": "code",
   "execution_count": 139,
   "id": "55f35333",
   "metadata": {},
   "outputs": [],
   "source": [
    "from collections import Counter"
   ]
  },
  {
   "cell_type": "code",
   "execution_count": 140,
   "id": "08407a12",
   "metadata": {},
   "outputs": [
    {
     "data": {
      "text/plain": [
       "Counter({0: 1877, 1: 372, 3: 327, 2: 542})"
      ]
     },
     "execution_count": 140,
     "metadata": {},
     "output_type": "execute_result"
    }
   ],
   "source": [
    "Counter(y_val)"
   ]
  },
  {
   "cell_type": "code",
   "execution_count": 136,
   "id": "1722d185",
   "metadata": {},
   "outputs": [
    {
     "data": {
      "text/plain": [
       "array([[1877,    0,    0,    0],\n",
       "       [   0,  372,    0,    0],\n",
       "       [   0,    0,  542,    0],\n",
       "       [   0,    0,    0,  327]], dtype=int64)"
      ]
     },
     "execution_count": 136,
     "metadata": {},
     "output_type": "execute_result"
    }
   ],
   "source": [
    "confusion_matrix(y_val, val_preds)"
   ]
  },
  {
   "cell_type": "code",
   "execution_count": 91,
   "id": "3e6a9475",
   "metadata": {},
   "outputs": [
    {
     "data": {
      "text/plain": [
       "<tf.Tensor: shape=(), dtype=float64, numpy=0.6666666666666666>"
      ]
     },
     "execution_count": 91,
     "metadata": {},
     "output_type": "execute_result"
    }
   ],
   "source": [
    "tf.reduce_mean(tf.linalg.diag_part(conf_mat) / tf.reduce_sum(conf_mat, axis=0))"
   ]
  },
  {
   "cell_type": "code",
   "execution_count": 69,
   "id": "4fb73731",
   "metadata": {},
   "outputs": [
    {
     "name": "stdout",
     "output_type": "stream",
     "text": [
      "[0.66666667 0.33333333 1.        ] [0.66666667 0.5        0.5       ]\n"
     ]
    }
   ],
   "source": [
    "print(precision, recall)"
   ]
  },
  {
   "cell_type": "code",
   "execution_count": 78,
   "id": "04914040",
   "metadata": {},
   "outputs": [
    {
     "name": "stdout",
     "output_type": "stream",
     "text": [
      "[0.66666667 0.4        0.66666667]\n"
     ]
    }
   ],
   "source": [
    "f1_score = ((2 * precision * recall) / (precision + recall))\n",
    "print(f1_score)"
   ]
  },
  {
   "cell_type": "code",
   "execution_count": 79,
   "id": "c21d0625",
   "metadata": {},
   "outputs": [
    {
     "data": {
      "text/plain": [
       "<tf.Tensor: shape=(), dtype=float64, numpy=0.5777777777777778>"
      ]
     },
     "execution_count": 79,
     "metadata": {},
     "output_type": "execute_result"
    }
   ],
   "source": [
    "tf.reduce_mean(f1_score)"
   ]
  },
  {
   "cell_type": "code",
   "execution_count": 76,
   "id": "5cc109d3",
   "metadata": {},
   "outputs": [
    {
     "name": "stdout",
     "output_type": "stream",
     "text": [
      "0.65359477124183\n"
     ]
    }
   ],
   "source": [
    "f1_score = (((1+9)*np.mean(recall)*np.mean(precision))/((9*np.mean(recall))+np.mean(precision)))\n",
    "print(f1_score)"
   ]
  },
  {
   "cell_type": "code",
   "execution_count": 70,
   "id": "83ac9d7c",
   "metadata": {},
   "outputs": [
    {
     "name": "stdout",
     "output_type": "stream",
     "text": [
      "0.5555555555555555\n",
      "0.6666666666666666\n"
     ]
    }
   ],
   "source": [
    "print(np.mean(recall))\n",
    "print(np.mean(precision))"
   ]
  },
  {
   "cell_type": "code",
   "execution_count": null,
   "id": "25ac8f6f",
   "metadata": {},
   "outputs": [],
   "source": []
  },
  {
   "cell_type": "code",
   "execution_count": null,
   "id": "ab057a2e",
   "metadata": {},
   "outputs": [],
   "source": []
  },
  {
   "cell_type": "code",
   "execution_count": null,
   "id": "45a31c3f",
   "metadata": {},
   "outputs": [],
   "source": []
  },
  {
   "cell_type": "code",
   "execution_count": null,
   "id": "fc4e8866",
   "metadata": {},
   "outputs": [],
   "source": []
  },
  {
   "cell_type": "code",
   "execution_count": null,
   "id": "edec96c1",
   "metadata": {},
   "outputs": [],
   "source": []
  },
  {
   "cell_type": "code",
   "execution_count": null,
   "id": "3485fc28",
   "metadata": {},
   "outputs": [],
   "source": []
  },
  {
   "cell_type": "code",
   "execution_count": null,
   "id": "0ab20592",
   "metadata": {},
   "outputs": [],
   "source": []
  },
  {
   "cell_type": "code",
   "execution_count": null,
   "id": "65fbe0e3",
   "metadata": {},
   "outputs": [],
   "source": []
  },
  {
   "cell_type": "code",
   "execution_count": null,
   "id": "3fa085bf",
   "metadata": {},
   "outputs": [],
   "source": []
  },
  {
   "cell_type": "code",
   "execution_count": null,
   "id": "cc2abd8a",
   "metadata": {},
   "outputs": [],
   "source": []
  },
  {
   "cell_type": "code",
   "execution_count": null,
   "id": "6db74088",
   "metadata": {},
   "outputs": [],
   "source": []
  },
  {
   "cell_type": "code",
   "execution_count": null,
   "id": "d7ea87e2",
   "metadata": {},
   "outputs": [],
   "source": []
  }
 ],
 "metadata": {
  "kernelspec": {
   "display_name": "Python 3 (ipykernel)",
   "language": "python",
   "name": "python3"
  },
  "language_info": {
   "codemirror_mode": {
    "name": "ipython",
    "version": 3
   },
   "file_extension": ".py",
   "mimetype": "text/x-python",
   "name": "python",
   "nbconvert_exporter": "python",
   "pygments_lexer": "ipython3",
   "version": "3.9.12"
  }
 },
 "nbformat": 4,
 "nbformat_minor": 5
}

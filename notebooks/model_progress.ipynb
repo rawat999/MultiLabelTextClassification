{
 "cells": [
  {
   "cell_type": "code",
   "execution_count": 11,
   "id": "f7527296",
   "metadata": {},
   "outputs": [
    {
     "name": "stdout",
     "output_type": "stream",
     "text": [
      "C:\\Users\\KIIT\\Documents\\Saarthi Assignment\\logs\\scalars\n"
     ]
    }
   ],
   "source": [
    "import os\n",
    "\n",
    "root_path = \"\\\\\".join(os.getcwd().split(\"\\\\\")[:-1])\n",
    "cur_path = os.path.join(root_path, 'notebooks')\n",
    "\n",
    "scalars_path = os.path.join(root_path, \"logs\", \"scalars\")\n",
    "print(scalars_path)"
   ]
  },
  {
   "cell_type": "code",
   "execution_count": 12,
   "id": "51c22b5d",
   "metadata": {},
   "outputs": [
    {
     "name": "stdout",
     "output_type": "stream",
     "text": [
      "The tensorboard extension is already loaded. To reload it, use:\n",
      "  %reload_ext tensorboard\n"
     ]
    }
   ],
   "source": [
    "# Load the TensorBoard notebook extension.\n",
    "%load_ext tensorboard"
   ]
  },
  {
   "cell_type": "code",
   "execution_count": 14,
   "id": "c71e4c9b",
   "metadata": {},
   "outputs": [
    {
     "data": {
      "text/plain": [
       "Reusing TensorBoard on port 6006 (pid 18348), started 0:17:01 ago. (Use '!kill 18348' to kill it.)"
      ]
     },
     "metadata": {},
     "output_type": "display_data"
    },
    {
     "data": {
      "text/html": [
       "\n",
       "      <iframe id=\"tensorboard-frame-4ed6ea14c97ace67\" width=\"100%\" height=\"800\" frameborder=\"0\">\n",
       "      </iframe>\n",
       "      <script>\n",
       "        (function() {\n",
       "          const frame = document.getElementById(\"tensorboard-frame-4ed6ea14c97ace67\");\n",
       "          const url = new URL(\"/\", window.location);\n",
       "          const port = 6006;\n",
       "          if (port) {\n",
       "            url.port = port;\n",
       "          }\n",
       "          frame.src = url;\n",
       "        })();\n",
       "      </script>\n",
       "    "
      ],
      "text/plain": [
       "<IPython.core.display.HTML object>"
      ]
     },
     "metadata": {},
     "output_type": "display_data"
    }
   ],
   "source": [
    "%tensorboard --logdir scalars_path"
   ]
  },
  {
   "cell_type": "code",
   "execution_count": null,
   "id": "71042e99",
   "metadata": {},
   "outputs": [],
   "source": []
  }
 ],
 "metadata": {
  "kernelspec": {
   "display_name": "Python 3 (ipykernel)",
   "language": "python",
   "name": "python3"
  },
  "language_info": {
   "codemirror_mode": {
    "name": "ipython",
    "version": 3
   },
   "file_extension": ".py",
   "mimetype": "text/x-python",
   "name": "python",
   "nbconvert_exporter": "python",
   "pygments_lexer": "ipython3",
   "version": "3.9.12"
  }
 },
 "nbformat": 4,
 "nbformat_minor": 5
}
